{
 "cells": [
  {
   "cell_type": "code",
   "execution_count": 7,
   "metadata": {},
   "outputs": [],
   "source": [
    "def even_odd(A):\n",
    "\n",
    "    # even pointer\n",
    "    next_even = 0\n",
    "    # odd pointer\n",
    "    next_odd = len(A) - 1\n",
    "\n",
    "    # while pointers have not crossed\n",
    "    while next_even < next_odd:\n",
    "        # iterate through, if even number continue to next\n",
    "        if A[next_even] % 2 == 0:\n",
    "            next_even += 1\n",
    "        # when we find an odd number\n",
    "        else:\n",
    "            # take number from the back and put it in front\n",
    "            # A[next_even] = A[next_odd]\n",
    "            # set next odd pointer to the front\n",
    "            # A[next_odd] = A[next_even]\n",
    "            # move next_odd to the left\n",
    "            A[next_even], A[next_odd] = A[next_odd], A[next_even]\n",
    "            next_odd -= 1\n",
    "    return A"
   ]
  },
  {
   "cell_type": "code",
   "execution_count": 8,
   "metadata": {},
   "outputs": [
    {
     "data": {
      "text/plain": [
       "[0, 8, 2, 6, 4, 5, 7, 3, 9, 1]"
      ]
     },
     "execution_count": 8,
     "metadata": {},
     "output_type": "execute_result"
    }
   ],
   "source": [
    "ex = [0,1,2,3,4,5,6,7,8,9]\n",
    "even_odd(ex)"
   ]
  },
  {
   "cell_type": "code",
   "execution_count": null,
   "metadata": {},
   "outputs": [],
   "source": [
    "# this shit doesn't work and makes no sense to me wtf"
   ]
  }
 ],
 "metadata": {
  "kernelspec": {
   "display_name": "Python 3.9.12 ('base')",
   "language": "python",
   "name": "python3"
  },
  "language_info": {
   "codemirror_mode": {
    "name": "ipython",
    "version": 3
   },
   "file_extension": ".py",
   "mimetype": "text/x-python",
   "name": "python",
   "nbconvert_exporter": "python",
   "pygments_lexer": "ipython3",
   "version": "3.9.12"
  },
  "orig_nbformat": 4,
  "vscode": {
   "interpreter": {
    "hash": "40203b3ec892d21f304b904bd7441b754322a8b95cad2515f623282baa87ac4b"
   }
  }
 },
 "nbformat": 4,
 "nbformat_minor": 2
}
