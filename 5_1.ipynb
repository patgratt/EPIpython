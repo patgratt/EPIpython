{
 "cells": [
  {
   "cell_type": "markdown",
   "metadata": {},
   "source": [
    "<h1> Dutch National Flag Problem"
   ]
  },
  {
   "cell_type": "markdown",
   "metadata": {},
   "source": [
    "Write a program that takes an array A and an index i into A, and rearranges the elements such that all elements less than A[i] (the \"pivot\") appear first, followed by elements equal to the pivot, followed by elements greater than the pivot."
   ]
  },
  {
   "cell_type": "code",
   "execution_count": 1,
   "metadata": {},
   "outputs": [],
   "source": [
    "red, white, blue = range(3)"
   ]
  },
  {
   "cell_type": "markdown",
   "metadata": {},
   "source": [
    "Trivial approach: \n",
    "- O(n) additional space\n",
    "- O(n) time complexity"
   ]
  },
  {
   "cell_type": "code",
   "execution_count": 3,
   "metadata": {},
   "outputs": [],
   "source": [
    "def dutch_flag_partition(pivot_index, A):\n",
    "    less = []\n",
    "    equal = []\n",
    "    greater = []\n",
    "    for x in A:\n",
    "        if x < pivot_index:\n",
    "            less.append(x)\n",
    "        if x == pivot_index:\n",
    "            equal.append(x)\n",
    "        if x > pivot_index:\n",
    "            greater.append(x)\n",
    "    A = less + equal + greater\n",
    "    return A"
   ]
  },
  {
   "cell_type": "markdown",
   "metadata": {},
   "source": [
    "Better approach:"
   ]
  },
  {
   "cell_type": "code",
   "execution_count": null,
   "metadata": {},
   "outputs": [],
   "source": [
    "def dutch_flag_partition(pivot_index, A):\n",
    "    pivot = A[pivot_index]\n",
    "    # First pass: group elements smaller than pivot\n",
    "    for i in range(len(A)):\n",
    "        # look for a smaller element\n",
    "        for j in range(i + 1\n"
   ]
  }
 ],
 "metadata": {
  "kernelspec": {
   "display_name": "Python 3.9.12 ('base')",
   "language": "python",
   "name": "python3"
  },
  "language_info": {
   "codemirror_mode": {
    "name": "ipython",
    "version": 3
   },
   "file_extension": ".py",
   "mimetype": "text/x-python",
   "name": "python",
   "nbconvert_exporter": "python",
   "pygments_lexer": "ipython3",
   "version": "3.9.12"
  },
  "orig_nbformat": 4,
  "vscode": {
   "interpreter": {
    "hash": "40203b3ec892d21f304b904bd7441b754322a8b95cad2515f623282baa87ac4b"
   }
  }
 },
 "nbformat": 4,
 "nbformat_minor": 2
}
